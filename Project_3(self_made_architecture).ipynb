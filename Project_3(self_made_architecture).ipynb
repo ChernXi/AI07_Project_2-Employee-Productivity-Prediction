{
  "nbformat": 4,
  "nbformat_minor": 0,
  "metadata": {
    "colab": {
      "name": "Project_3(self-made architecture).ipynb",
      "provenance": [],
      "collapsed_sections": []
    },
    "kernelspec": {
      "name": "python3",
      "display_name": "Python 3"
    },
    "language_info": {
      "name": "python"
    }
  },
  "cells": [
    {
      "cell_type": "code",
      "execution_count": 1,
      "metadata": {
        "id": "y7dsOXms_j5B"
      },
      "outputs": [],
      "source": [
        "#1. Import packages\n",
        "import tensorflow as tf\n",
        "from tensorflow import keras\n",
        "from tensorflow.keras import layers,optimizers,losses,callbacks,applications\n",
        "import numpy as np\n",
        "import os, datetime, pathlib\n",
        "import matplotlib.pyplot as plt"
      ]
    },
    {
      "cell_type": "code",
      "source": [
        "from google.colab import drive\n",
        "drive.mount('/content/gdrive', force_remount=True)"
      ],
      "metadata": {
        "colab": {
          "base_uri": "https://localhost:8080/"
        },
        "id": "POCZCxWfBHi0",
        "outputId": "1d945fd8-4dac-4eac-c877-f2bdd0eaa5c8"
      },
      "execution_count": 2,
      "outputs": [
        {
          "output_type": "stream",
          "name": "stdout",
          "text": [
            "Mounted at /content/gdrive\n"
          ]
        }
      ]
    },
    {
      "cell_type": "code",
      "source": [
        "#2. Data preparation\n",
        "file_path = r\"/content/gdrive/MyDrive/roadcrack/road crack\"\n",
        "data_dir = pathlib.Path(file_path)\n",
        "\n",
        "SEED = 12345\n",
        "IMG_SIZE = (80,80)\n",
        "BATCH_SIZE = 32\n",
        "\n",
        "train_dataset = keras.utils.image_dataset_from_directory(data_dir,validation_split=0.2,subset='training',seed=SEED,shuffle=True,\n",
        "                                                         image_size=IMG_SIZE,batch_size=BATCH_SIZE)\n",
        "val_dataset = keras.utils.image_dataset_from_directory(data_dir,validation_split=0.2,subset='validation',seed=SEED,shuffle=True,\n",
        "                                                         image_size=IMG_SIZE,batch_size=BATCH_SIZE)"
      ],
      "metadata": {
        "colab": {
          "base_uri": "https://localhost:8080/"
        },
        "id": "LRyeGa5OBdCb",
        "outputId": "8c71b9d7-a939-43e3-8d59-98195673b049"
      },
      "execution_count": 3,
      "outputs": [
        {
          "output_type": "stream",
          "name": "stdout",
          "text": [
            "Found 40000 files belonging to 2 classes.\n",
            "Using 32000 files for training.\n",
            "Found 40000 files belonging to 2 classes.\n",
            "Using 8000 files for validation.\n"
          ]
        }
      ]
    },
    {
      "cell_type": "code",
      "source": [
        "#Further split validation into validation-test splits\n",
        "val_batches = tf.data.experimental.cardinality(val_dataset)\n",
        "test_dataset = val_dataset.take(val_batches//5)\n",
        "validation_dataset = val_dataset.skip(val_batches//5)\n",
        "\n",
        "\n",
        "#Create prefetch dataset for all the 3 splits\n",
        "AUTOTUNE = tf.data.AUTOTUNE\n",
        "pf_train = train_dataset.prefetch(buffer_size=AUTOTUNE)\n",
        "pf_val = validation_dataset.prefetch(buffer_size=AUTOTUNE)\n",
        "pf_test = test_dataset.prefetch(buffer_size=AUTOTUNE)"
      ],
      "metadata": {
        "id": "NC4PkAfFBhdZ"
      },
      "execution_count": 4,
      "outputs": []
    },
    {
      "cell_type": "code",
      "source": [
        "# Let's start to work on the model\n",
        "# Our model will be:\n",
        "# Data augmentation --> Preprocessing --> Feature extraction (pretrained model) --> Classification\n",
        "\n",
        "#3. Data augmentation layers\n",
        "data_augmentation = keras.Sequential()\n",
        "data_augmentation.add(layers.RandomFlip('horizontal_and_vertical'))\n",
        "data_augmentation.add(layers.RandomRotation(0.25))"
      ],
      "metadata": {
        "id": "MzCwI01xCb8M"
      },
      "execution_count": 5,
      "outputs": []
    },
    {
      "cell_type": "code",
      "source": [
        "#4. Model creation\n",
        "\n",
        "class_names = train_dataset.class_names\n",
        "nClass = len(class_names)\n",
        "IMG_SHAPE = IMG_SIZE + (3,)\n",
        "global_avg = layers.GlobalAveragePooling2D()\n",
        "\n",
        "inputs = keras.Input(shape=IMG_SHAPE)\n",
        "h1 = layers.Conv2D(32, (3,3), padding = \"same\", activation='relu')\n",
        "h2 = layers.Conv2D(16, (3,3), padding = \"same\", activation='relu')\n",
        "h3 = layers.Conv2D(8, (3,3), padding = \"same\", activation='relu')\n",
        "\n",
        "c1 = layers.Flatten()\n",
        "c3 = layers.Dense(32, activation='relu')\n",
        "c4 = layers.Dense(16, activation='relu')\n",
        "out_layer = layers.Dense(nClass, activation='softmax')\n",
        "\n",
        "# Chain the functional API\n",
        "x = data_augmentation(inputs)\n",
        "x = x / 255.0 #(preprocess)\n",
        "x = h1(x)\n",
        "x = h2(x)\n",
        "x = h3(x)\n",
        "x = global_avg(x)\n",
        "x = c1(x)\n",
        "x = c3(x)\n",
        "x = c4(x)\n",
        "outputs = out_layer(x)\n",
        "\n",
        "model = keras.Model(inputs=inputs,outputs=outputs)\n",
        "model.summary()"
      ],
      "metadata": {
        "id": "K7ZLnQEyCimL",
        "colab": {
          "base_uri": "https://localhost:8080/"
        },
        "outputId": "874e9a4f-64d5-4192-9a28-3e49c3eb9630"
      },
      "execution_count": 6,
      "outputs": [
        {
          "output_type": "stream",
          "name": "stdout",
          "text": [
            "Model: \"model\"\n",
            "_________________________________________________________________\n",
            " Layer (type)                Output Shape              Param #   \n",
            "=================================================================\n",
            " input_1 (InputLayer)        [(None, 80, 80, 3)]       0         \n",
            "                                                                 \n",
            " sequential (Sequential)     (None, 80, 80, 3)         0         \n",
            "                                                                 \n",
            " tf.math.truediv (TFOpLambda  (None, 80, 80, 3)        0         \n",
            " )                                                               \n",
            "                                                                 \n",
            " conv2d (Conv2D)             (None, 80, 80, 32)        896       \n",
            "                                                                 \n",
            " conv2d_1 (Conv2D)           (None, 80, 80, 16)        4624      \n",
            "                                                                 \n",
            " conv2d_2 (Conv2D)           (None, 80, 80, 8)         1160      \n",
            "                                                                 \n",
            " global_average_pooling2d (G  (None, 8)                0         \n",
            " lobalAveragePooling2D)                                          \n",
            "                                                                 \n",
            " flatten (Flatten)           (None, 8)                 0         \n",
            "                                                                 \n",
            " dense (Dense)               (None, 32)                288       \n",
            "                                                                 \n",
            " dense_1 (Dense)             (None, 16)                528       \n",
            "                                                                 \n",
            " dense_2 (Dense)             (None, 2)                 34        \n",
            "                                                                 \n",
            "=================================================================\n",
            "Total params: 7,530\n",
            "Trainable params: 7,530\n",
            "Non-trainable params: 0\n",
            "_________________________________________________________________\n"
          ]
        }
      ]
    },
    {
      "cell_type": "code",
      "source": [
        "#7. Compile the model\n",
        "optimizer = optimizers.Adam(learning_rate = 0.001)\n",
        "loss = losses.SparseCategoricalCrossentropy()\n",
        "\n",
        "model.compile(optimizer=optimizer,loss=loss,metrics=['accuracy'])"
      ],
      "metadata": {
        "id": "z6gBu86XGKPy"
      },
      "execution_count": 7,
      "outputs": []
    },
    {
      "cell_type": "code",
      "source": [
        "#8. Perform model training\n",
        "EPOCHS = 1\n",
        "history = model.fit(pf_train,validation_data=pf_val,epochs=EPOCHS)"
      ],
      "metadata": {
        "colab": {
          "base_uri": "https://localhost:8080/"
        },
        "id": "_t-nppwzGLua",
        "outputId": "48907d8c-d8af-4638-8c9c-8b05886e234f"
      },
      "execution_count": 8,
      "outputs": [
        {
          "output_type": "stream",
          "name": "stdout",
          "text": [
            "1000/1000 [==============================] - 1272s 1s/step - loss: 0.4498 - accuracy: 0.7291 - val_loss: 0.0723 - val_accuracy: 0.9745\n"
          ]
        }
      ]
    },
    {
      "cell_type": "code",
      "source": [
        "optimizer = optimizers.Adam(learning_rate = 0.0007)\n",
        "history = model.fit(pf_train,validation_data=pf_val,epochs=EPOCHS)"
      ],
      "metadata": {
        "colab": {
          "base_uri": "https://localhost:8080/"
        },
        "id": "zXsSn6oDYTU2",
        "outputId": "7a29b0b1-4787-4c42-cbea-567fcad0770e"
      },
      "execution_count": 9,
      "outputs": [
        {
          "output_type": "stream",
          "name": "stdout",
          "text": [
            "1000/1000 [==============================] - 657s 656ms/step - loss: 0.0435 - accuracy: 0.9868 - val_loss: 0.0330 - val_accuracy: 0.9880\n"
          ]
        }
      ]
    },
    {
      "cell_type": "code",
      "source": [
        "optimizer = optimizers.Adam(learning_rate = 0.00035)\n",
        "history = model.fit(pf_train,validation_data=pf_val,epochs=EPOCHS)"
      ],
      "metadata": {
        "colab": {
          "base_uri": "https://localhost:8080/"
        },
        "id": "psLLMETdcgT8",
        "outputId": "787d39d9-ab76-40db-efab-4680874be9f3"
      },
      "execution_count": 10,
      "outputs": [
        {
          "output_type": "stream",
          "name": "stdout",
          "text": [
            "1000/1000 [==============================] - 653s 652ms/step - loss: 0.0302 - accuracy: 0.9908 - val_loss: 0.0222 - val_accuracy: 0.9930\n"
          ]
        }
      ]
    },
    {
      "cell_type": "code",
      "source": [
        "optimizer = optimizers.Adam(learning_rate = 0.00022)\n",
        "history = model.fit(pf_train,validation_data=pf_val,epochs=EPOCHS)"
      ],
      "metadata": {
        "colab": {
          "base_uri": "https://localhost:8080/"
        },
        "id": "ad8x8HkUfRMr",
        "outputId": "e93e89b1-b031-4166-ff7b-45c17862df2d"
      },
      "execution_count": 11,
      "outputs": [
        {
          "output_type": "stream",
          "name": "stdout",
          "text": [
            "1000/1000 [==============================] - 649s 649ms/step - loss: 0.0270 - accuracy: 0.9913 - val_loss: 0.0199 - val_accuracy: 0.9937\n"
          ]
        }
      ]
    },
    {
      "cell_type": "code",
      "source": [
        "optimizer = optimizers.Adam(learning_rate = 0.00012)\n",
        "history = model.fit(pf_train,validation_data=pf_val,epochs=EPOCHS)"
      ],
      "metadata": {
        "colab": {
          "base_uri": "https://localhost:8080/"
        },
        "id": "ataZaMbTh5Fr",
        "outputId": "8d5b5764-ee96-4628-9497-7170f8f0a788"
      },
      "execution_count": 12,
      "outputs": [
        {
          "output_type": "stream",
          "name": "stdout",
          "text": [
            "1000/1000 [==============================] - 654s 654ms/step - loss: 0.0246 - accuracy: 0.9918 - val_loss: 0.0184 - val_accuracy: 0.9934\n"
          ]
        }
      ]
    },
    {
      "cell_type": "code",
      "source": [
        "optimizer = optimizers.Adam(learning_rate = 0.00008)\n",
        "history = model.fit(pf_train,validation_data=pf_val,epochs=EPOCHS)"
      ],
      "metadata": {
        "colab": {
          "base_uri": "https://localhost:8080/"
        },
        "id": "loTjN6_uk__r",
        "outputId": "ac5827a3-e25d-48bc-a1dd-832841f0f058"
      },
      "execution_count": 13,
      "outputs": [
        {
          "output_type": "stream",
          "name": "stdout",
          "text": [
            "1000/1000 [==============================] - 666s 665ms/step - loss: 0.0208 - accuracy: 0.9931 - val_loss: 0.0149 - val_accuracy: 0.9958\n"
          ]
        }
      ]
    },
    {
      "cell_type": "code",
      "source": [
        "optimizer = optimizers.Adam(learning_rate = 0.000045)\n",
        "history = model.fit(pf_train,validation_data=pf_val,epochs=EPOCHS)"
      ],
      "metadata": {
        "colab": {
          "base_uri": "https://localhost:8080/"
        },
        "id": "0yFG89Vxntg6",
        "outputId": "b3cdb623-93c6-4f19-ccad-e04dabaa7258"
      },
      "execution_count": 14,
      "outputs": [
        {
          "output_type": "stream",
          "name": "stdout",
          "text": [
            "1000/1000 [==============================] - 652s 651ms/step - loss: 0.0196 - accuracy: 0.9942 - val_loss: 0.0164 - val_accuracy: 0.9950\n"
          ]
        }
      ]
    },
    {
      "cell_type": "code",
      "source": [
        "optimizer = optimizers.Adam(learning_rate = 0.00003)\n",
        "history = model.fit(pf_train,validation_data=pf_val,epochs=EPOCHS)"
      ],
      "metadata": {
        "colab": {
          "base_uri": "https://localhost:8080/"
        },
        "id": "D7QwA9BxqvZB",
        "outputId": "6f8e006f-1e28-4dc8-fc05-d936701511c9"
      },
      "execution_count": 15,
      "outputs": [
        {
          "output_type": "stream",
          "name": "stdout",
          "text": [
            "1000/1000 [==============================] - 619s 618ms/step - loss: 0.0186 - accuracy: 0.9941 - val_loss: 0.0216 - val_accuracy: 0.9928\n"
          ]
        }
      ]
    },
    {
      "cell_type": "code",
      "source": [
        "optimizer = optimizers.Adam(learning_rate = 0.00009)\n",
        "history = model.fit(pf_train,validation_data=pf_val,epochs=EPOCHS)"
      ],
      "metadata": {
        "colab": {
          "base_uri": "https://localhost:8080/"
        },
        "id": "4PLrjRIstXvo",
        "outputId": "0cf036d3-5c17-40c4-b79c-fd67265b988f"
      },
      "execution_count": 19,
      "outputs": [
        {
          "output_type": "stream",
          "name": "stdout",
          "text": [
            "1000/1000 [==============================] - 617s 616ms/step - loss: 0.0188 - accuracy: 0.9942 - val_loss: 0.0146 - val_accuracy: 0.9959\n"
          ]
        }
      ]
    },
    {
      "cell_type": "code",
      "source": [
        "#Evaluate the model after training\n",
        "test_loss, test_accuracy = model.evaluate(pf_test)\n",
        "\n",
        "print(\"------------------------------After Training---------------------------\")\n",
        "print(\"Loss = \", test_loss)\n",
        "print(\"Accuracy = \",test_accuracy)"
      ],
      "metadata": {
        "colab": {
          "base_uri": "https://localhost:8080/"
        },
        "id": "uQUW1fUcv4V3",
        "outputId": "1cb32ca2-f493-4343-c6b9-268bd66b1fd2"
      },
      "execution_count": 20,
      "outputs": [
        {
          "output_type": "stream",
          "name": "stdout",
          "text": [
            "50/50 [==============================] - 8s 156ms/step - loss: 0.0139 - accuracy: 0.9969\n",
            "------------------------------After Training---------------------------\n",
            "Loss =  0.013866939581930637\n",
            "Accuracy =  0.996874988079071\n"
          ]
        }
      ]
    },
    {
      "cell_type": "code",
      "source": [
        "#Deploy the model to make predictions\n",
        "image_batch, label_batch = pf_test.as_numpy_iterator().next()\n",
        "predictions = np.argmax(model.predict(image_batch),axis=1)"
      ],
      "metadata": {
        "id": "QnEKeH2I1PSX"
      },
      "execution_count": 21,
      "outputs": []
    },
    {
      "cell_type": "code",
      "source": [
        "#Compare label vs prediction\n",
        "label_vs_prediction = np.transpose(np.vstack((label_batch,predictions)))"
      ],
      "metadata": {
        "id": "IK05rE201UO1"
      },
      "execution_count": 22,
      "outputs": []
    },
    {
      "cell_type": "code",
      "source": [
        "print(label_vs_prediction)"
      ],
      "metadata": {
        "colab": {
          "base_uri": "https://localhost:8080/"
        },
        "id": "RmVpHyQD1aLt",
        "outputId": "e5f445f1-5d89-4535-f936-527dc9b4bdc0"
      },
      "execution_count": 23,
      "outputs": [
        {
          "output_type": "stream",
          "name": "stdout",
          "text": [
            "[[0 0]\n",
            " [0 0]\n",
            " [0 0]\n",
            " [1 1]\n",
            " [1 1]\n",
            " [1 1]\n",
            " [0 0]\n",
            " [1 1]\n",
            " [0 0]\n",
            " [1 1]\n",
            " [1 1]\n",
            " [1 1]\n",
            " [0 0]\n",
            " [0 0]\n",
            " [1 1]\n",
            " [1 1]\n",
            " [1 1]\n",
            " [1 1]\n",
            " [0 0]\n",
            " [1 1]\n",
            " [1 1]\n",
            " [1 1]\n",
            " [1 1]\n",
            " [1 1]\n",
            " [1 1]\n",
            " [0 0]\n",
            " [0 0]\n",
            " [0 0]\n",
            " [0 0]\n",
            " [0 0]\n",
            " [0 0]\n",
            " [1 1]]\n"
          ]
        }
      ]
    }
  ]
}